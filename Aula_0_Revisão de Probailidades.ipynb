{
 "cells": [
  {
   "cell_type": "markdown",
   "id": "9e589f6b",
   "metadata": {
    "slideshow": {
     "slide_type": "slide"
    }
   },
   "source": [
    "# 🎲 Quebra-Gelo: Probabilidades para Aprendizado por Reforço\n",
    "\n",
    "## 🎯 Objetivo da Aula\n",
    "Relembrar conceitos básicos de probabilidade de forma prática e divertida, preparando o terreno para entender como a **incerteza** e a **aleatoriedade** são fundamentais no Aprendizado por Reforço."
   ]
  },
  {
   "cell_type": "markdown",
   "id": "08f0fe77",
   "metadata": {
    "slideshow": {
     "slide_type": "slide"
    }
   },
   "source": [
    "## 🎮 Warm-up: O Jogo dos Dados\n",
    "\n",
    "### Pergunta Inicial: \"Qual resultado é mais provável?\"\n",
    "Vamos começar com uma pergunta simples para ativar o pensamento probabilístico:\n",
    "\n",
    "**Ao lançar dois dados, qual soma tem maior probabilidade de ocorrer?**\n",
    "- A) 6\n",
    "- B) 7  \n",
    "- C) 8\n",
    "- D) Todas têm a mesma probabilidade"
   ]
  },
  {
   "cell_type": "code",
   "execution_count": 37,
   "id": "35b2a130",
   "metadata": {
    "slideshow": {
     "slide_type": "slide"
    }
   },
   "outputs": [],
   "source": [
    "import random\n",
    "import matplotlib.pyplot as plt\n",
    "from collections import Counter\n",
    "\n",
    "# Vamos descobrir empiricamente!\n",
    "def experimento_dois_dados(n_lancamentos=1000):\n",
    "    somas = []\n",
    "    \n",
    "    for _ in range(n_lancamentos):\n",
    "        dado1 = random.randint(1, 6)\n",
    "        dado2 = random.randint(1, 6)\n",
    "        somas.append(dado1 + dado2)\n",
    "    \n",
    "    # Contar frequências\n",
    "    contagem = Counter(somas)\n",
    "    \n",
    "    print(\"🎲 RESULTADOS DO EXPERIMENTO:\")\n",
    "    print(f\"Após {n_lancamentos} lançamentos...\")\n",
    "    \n",
    "    for soma in sorted(contagem.keys()):\n",
    "        freq = contagem[soma]\n",
    "        prob = freq / n_lancamentos\n",
    "        print(f\"Soma {soma}: {freq} vezes ({prob:.3f})\")\n",
    "    \n",
    "    # Visualizar\n",
    "    plt.figure(figsize=(8, 4))\n",
    "    somas_ordenadas = sorted(contagem.keys())\n",
    "    frequencias = [contagem[s] for s in somas_ordenadas]\n",
    "    \n",
    "    plt.bar(somas_ordenadas, frequencias, alpha=0.7, color='skyblue')\n",
    "    plt.title(f'Distribuição das Somas - {n_lancamentos} lançamentos')\n",
    "    plt.xlabel('Soma dos Dados')\n",
    "    plt.ylabel('Frequência')\n",
    "    plt.grid(True, alpha=0.3)\n",
    "    \n",
    "    # Destacar o mais frequente\n",
    "    mais_frequente = max(contagem, key=contagem.get)\n",
    "    plt.bar(mais_frequente, contagem[mais_frequente], color='red', alpha=0.8, \n",
    "            label=f'Mais frequente: {mais_frequente}')\n",
    "    plt.legend()\n",
    "    plt.show()\n",
    "    \n",
    "    print(f\"\\n🏆 Soma mais frequente: {mais_frequente}\")\n",
    "    return contagem"
   ]
  },
  {
   "cell_type": "code",
   "execution_count": 39,
   "id": "b9ad66d2",
   "metadata": {
    "slideshow": {
     "slide_type": "slide"
    }
   },
   "outputs": [
    {
     "name": "stdout",
     "output_type": "stream",
     "text": [
      "🎲 RESULTADOS DO EXPERIMENTO:\n",
      "Após 12 lançamentos...\n",
      "Soma 2: 1 vezes (0.083)\n",
      "Soma 3: 1 vezes (0.083)\n",
      "Soma 4: 1 vezes (0.083)\n",
      "Soma 5: 2 vezes (0.167)\n",
      "Soma 6: 1 vezes (0.083)\n",
      "Soma 7: 4 vezes (0.333)\n",
      "Soma 8: 1 vezes (0.083)\n",
      "Soma 9: 1 vezes (0.083)\n"
     ]
    },
    {
     "data": {
      "image/png": "[encoded data removed]",
      "text/plain": [
       "<Figure size 800x400 with 1 Axes>"
      ]
     },
     "metadata": {},
     "output_type": "display_data"
    },
    {
     "name": "stdout",
     "output_type": "stream",
     "text": [
      "\n",
      "🏆 Soma mais frequente: 7\n"
     ]
    }
   ],
   "source": [
    "# Execute o experimento\n",
    "resultados = experimento_dois_dados(12)"
   ]
  },
  {
   "cell_type": "markdown",
   "id": "ca1ad37c",
   "metadata": {
    "slideshow": {
     "slide_type": "slide"
    }
   },
   "source": [
    "**🤔 Por que o 7 ganha?**\n",
    "- Existem mais maneiras de fazer 7: (1,6), (2,5), (3,4), (4,3), (5,2), (6,1)\n",
    "- Para fazer 2: apenas (1,1)\n",
    "- Para fazer 12: apenas (6,6)"
   ]
  },
  {
   "cell_type": "markdown",
   "id": "799aff92",
   "metadata": {
    "slideshow": {
     "slide_type": "slide"
    }
   },
   "source": [
    "## 🏆 Conceito #1: Nem Tudo é Igualmente Provável\n",
    "\n",
    "### Exemplo Clássico: A Porta dos Prêmios (Problema de Monty Hall)"
   ]
  },
  {
   "cell_type": "code",
   "execution_count": 26,
   "id": "883dc2b0",
   "metadata": {
    "slideshow": {
     "slide_type": "slide"
    }
   },
   "outputs": [],
   "source": [
    "def monty_hall_simulation(n_jogos=1000, trocar_porta=True):\n",
    "    \"\"\"\n",
    "    Simula o famoso Problema de Monty Hall\n",
    "    \"\"\"\n",
    "    vitorias = 0\n",
    "    \n",
    "    for _ in range(n_jogos):\n",
    "        # Configurar o jogo\n",
    "        portas = [0, 0, 0]  # 0 = cabra, 1 = carro\n",
    "        porta_premiada = random.randint(0, 2)\n",
    "        portas[porta_premiada] = 1\n",
    "        \n",
    "        # Jogador escolhe uma porta\n",
    "        escolha_inicial = random.randint(0, 2)\n",
    "        \n",
    "        # Apresentador abre uma porta com cabra (que não é a escolhida)\n",
    "        portas_disponiveis = [i for i in range(3) \n",
    "                             if i != escolha_inicial and portas[i] == 0]\n",
    "        porta_aberta = random.choice(portas_disponiveis)\n",
    "        \n",
    "        # Decisão: trocar ou manter?\n",
    "        if trocar_porta:\n",
    "            # Trocar para a porta restante\n",
    "            porta_final = [i for i in range(3) \n",
    "                          if i != escolha_inicial and i != porta_aberta][0]\n",
    "        else:\n",
    "            # Manter escolha original\n",
    "            porta_final = escolha_inicial\n",
    "        \n",
    "        # Verificar vitória\n",
    "        if portas[porta_final] == 1:\n",
    "            vitorias += 1\n",
    "    \n",
    "    taxa_vitoria = vitorias / n_jogos\n",
    "    estrategia = \"TROCANDO\" if trocar_porta else \"MANTENDO\"\n",
    "    \n",
    "    print(f\"🚪 Estratégia: {estrategia}\")\n",
    "    print(f\"🎯 Taxa de vitória: {taxa_vitoria:.3f} ({taxa_vitoria*100:.1f}%)\")\n",
    "    \n",
    "    return taxa_vitoria"
   ]
  },
  {
   "cell_type": "code",
   "execution_count": 27,
   "id": "dd001c20",
   "metadata": {
    "slideshow": {
     "slide_type": "slide"
    }
   },
   "outputs": [
    {
     "name": "stdout",
     "output_type": "stream",
     "text": [
      "🎪 PROBLEMA DE MONTY HALL\n",
      "==============================\n",
      "Você está em um game show. Há 3 portas:\n",
      "🚪 Atrás de uma: um carro 🚗\n",
      "🚪 Atrás das outras: cabras 🐐🐐\n",
      "\n",
      "Você escolhe uma porta. O apresentador abre uma das\n",
      "outras portas, sempre revelando uma cabra.\n",
      "Agora ele pergunta: 'Quer trocar de porta?'\n",
      "\n",
      "🚪 Estratégia: MANTENDO\n",
      "🎯 Taxa de vitória: 0.337 (33.7%)\n",
      "\n",
      "🚪 Estratégia: TROCANDO\n",
      "🎯 Taxa de vitória: 0.669 (66.9%)\n",
      "\n",
      "💡 CONCLUSÃO:\n",
      "Trocar é 2.0x melhor que manter!\n"
     ]
    }
   ],
   "source": [
    "print(\"🎪 PROBLEMA DE MONTY HALL\")\n",
    "print(\"=\" * 30)\n",
    "print(\"Você está em um game show. Há 3 portas:\")\n",
    "print(\"🚪 Atrás de uma: um carro 🚗\")  \n",
    "print(\"🚪 Atrás das outras: cabras 🐐🐐\")\n",
    "print(\"\\nVocê escolhe uma porta. O apresentador abre uma das\")\n",
    "print(\"outras portas, sempre revelando uma cabra.\")\n",
    "print(\"Agora ele pergunta: 'Quer trocar de porta?'\\n\")\n",
    "\n",
    "# Simular ambas estratégias\n",
    "taxa_mantendo = monty_hall_simulation(10000, trocar_porta=False)\n",
    "print()\n",
    "taxa_trocando = monty_hall_simulation(10000, trocar_porta=True)\n",
    "\n",
    "print(f\"\\n💡 CONCLUSÃO:\")\n",
    "print(f\"Trocar é {taxa_trocando/taxa_mantendo:.1f}x melhor que manter!\")"
   ]
  },
  {
   "cell_type": "markdown",
   "id": "a346cc33",
   "metadata": {
    "slideshow": {
     "slide_type": "slide"
    }
   },
   "source": [
    "## 🎯 Conceito #2: Probabilidade Condicional\n",
    "\n",
    "### Exemplo Prático: Sistema de Spam"
   ]
  },
  {
   "cell_type": "code",
   "execution_count": 41,
   "id": "e46dc3e0",
   "metadata": {
    "slideshow": {
     "slide_type": "slide"
    }
   },
   "outputs": [],
   "source": [
    "def detector_spam():\n",
    "    \"\"\"\n",
    "    Demonstra probabilidade condicional com detecção de spam\n",
    "    \"\"\"\n",
    "    print(\"📧 DETECTOR DE SPAM\")\n",
    "    print(\"=\" * 20)\n",
    "    \n",
    "    # Dados fictícios mas realistas\n",
    "    prob_spam = 0.3  # 30% dos emails são spam\n",
    "    prob_palavra_dado_spam = 0.8  # \"GRÁTIS\" aparece em 80% dos spams\n",
    "    prob_palavra_dado_ham = 0.05  # \"GRÁTIS\" aparece em 5% dos emails legítimos\n",
    "    \n",
    "    print(f\"📊 Dados conhecidos:\")\n",
    "    print(f\"• P(Spam) = {prob_spam:.1%}\")\n",
    "    print(f\"• P('GRÁTIS' | Spam) = {prob_palavra_dado_spam:.1%}\")\n",
    "    print(f\"• P('GRÁTIS' | Ham) = {prob_palavra_dado_ham:.1%}\")\n",
    "    \n",
    "    # Calcular P(Spam | \"GRÁTIS\") usando Teorema de Bayes\n",
    "    prob_ham = 1 - prob_spam\n",
    "    \n",
    "    # P(\"GRÁTIS\") = P(\"GRÁTIS\"|Spam) * P(Spam) + P(\"GRÁTIS\"|Ham) * P(Ham)\n",
    "    prob_palavra = (prob_palavra_dado_spam * prob_spam + \n",
    "                   prob_palavra_dado_ham * prob_ham)\n",
    "    \n",
    "    # P(Spam | \"GRÁTIS\") = P(\"GRÁTIS\" | Spam) * P(Spam) / P(\"GRÁTIS\")\n",
    "    prob_spam_dado_palavra = (prob_palavra_dado_spam * prob_spam) / prob_palavra\n",
    "    \n",
    "    print(f\"\\n🧮 Cálculo (Teorema de Bayes):\")\n",
    "    print(f\"P(Spam | 'GRÁTIS') = {prob_spam_dado_palavra:.3f} = {prob_spam_dado_palavra:.1%}\")\n",
    "    \n",
    "    print(f\"\\n💡 Interpretação:\")\n",
    "    if prob_spam_dado_palavra > 0.5:\n",
    "        print(f\"Email com 'GRÁTIS' tem {prob_spam_dado_palavra:.1%} chance de ser spam!\")\n",
    "        print(\"🚨 ALTO RISCO - Provavelmente vai para pasta de spam\")\n",
    "    else:\n",
    "        print(f\"Email com 'GRÁTIS' tem apenas {prob_spam_dado_palavra:.1%} chance de ser spam\")\n",
    "        print(\"✅ BAIXO RISCO - Provavelmente é legítimo\")"
   ]
  },
  {
   "cell_type": "code",
   "execution_count": 42,
   "id": "26af3f20",
   "metadata": {
    "slideshow": {
     "slide_type": "slide"
    }
   },
   "outputs": [
    {
     "name": "stdout",
     "output_type": "stream",
     "text": [
      "📧 DETECTOR DE SPAM\n",
      "====================\n",
      "📊 Dados conhecidos:\n",
      "• P(Spam) = 30.0%\n",
      "• P('GRÁTIS' | Spam) = 80.0%\n",
      "• P('GRÁTIS' | Ham) = 5.0%\n",
      "\n",
      "🧮 Cálculo (Teorema de Bayes):\n",
      "P(Spam | 'GRÁTIS') = 0.873 = 87.3%\n",
      "\n",
      "💡 Interpretação:\n",
      "Email com 'GRÁTIS' tem 87.3% chance de ser spam!\n",
      "🚨 ALTO RISCO - Provavelmente vai para pasta de spam\n"
     ]
    }
   ],
   "source": [
    "detector_spam()"
   ]
  },
  {
   "cell_type": "markdown",
   "id": "407d7bc7",
   "metadata": {
    "slideshow": {
     "slide_type": "slide"
    }
   },
   "source": [
    "## 🎲 Conceito #3: Urnas e Dependência\n",
    "\n",
    "### Mini-Experimento: Netflix e Probabilidades"
   ]
  },
  {
   "cell_type": "code",
   "execution_count": null,
   "id": "5ce230b8",
   "metadata": {
    "slideshow": {
     "slide_type": "slide"
    }
   },
   "outputs": [],
   "source": [
    "def netflix_recomendacao():\n",
    "    \"\"\"\n",
    "    Simula como o Netflix pode usar probabilidades para recomendar filmes\n",
    "    \"\"\"\n",
    "    print(\"🎬 SISTEMA DE RECOMENDAÇÃO NETFLIX\")\n",
    "    print(\"=\" * 35)\n",
    "    \n",
    "    # Perfil do usuário (baseado no histórico)\n",
    "    historico = ['Ação', 'Ação', 'Comédia', 'Ação', 'Drama', 'Ação', 'Sci-Fi']\n",
    "    \n",
    "    print(\"📚 Seu histórico:\", ' → '.join(historico))\n",
    "    \n",
    "    # Calcular preferências\n",
    "    from collections import Counter\n",
    "    contagem = Counter(historico)\n",
    "    total = len(historico)\n",
    "    \n",
    "    print(f\"\\n📊 Suas preferências estimadas:\")\n",
    "    for genero, count in contagem.most_common():\n",
    "        prob = count / total\n",
    "        print(f\"• {genero}: {prob:.1%} ({count}/{total})\")\n",
    "    \n",
    "    # Simular recomendações baseadas nas probabilidades\n",
    "    print(f\"\\n🎯 Próximas 10 recomendações:\")\n",
    "    generos = list(contagem.keys())\n",
    "    probabilidades = [contagem[g]/total for g in generos]\n",
    "    \n",
    "    import numpy as np\n",
    "    recomendacoes = np.random.choice(generos, size=10, p=probabilidades)\n",
    "    \n",
    "    for i, rec in enumerate(recomendacoes, 1):\n",
    "        print(f\"{i:2d}. Filme de {rec}\")\n",
    "    \n",
    "    # Verificar se faz sentido\n",
    "    rec_contagem = Counter(recomendacoes)\n",
    "    print(f\"\\n✅ Verificação:\")\n",
    "    for genero in generos:\n",
    "        esperado = probabilidades[generos.index(genero)] * 10\n",
    "        obtido = rec_contagem[genero]\n",
    "        print(f\"• {genero}: esperado ≈ {esperado:.1f}, obtido = {obtido}\")"
   ]
  },
  {
   "cell_type": "code",
   "execution_count": 44,
   "id": "17756473",
   "metadata": {
    "slideshow": {
     "slide_type": "slide"
    }
   },
   "outputs": [
    {
     "name": "stdout",
     "output_type": "stream",
     "text": [
      "🎬 SISTEMA DE RECOMENDAÇÃO NETFLIX\n",
      "===================================\n",
      "📚 Seu histórico: Ação → Ação → Comédia → Ação → Drama → Ação → Sci-Fi\n",
      "\n",
      "📊 Suas preferências estimadas:\n",
      "• Ação: 57.1% (4/7)\n",
      "• Comédia: 14.3% (1/7)\n",
      "• Drama: 14.3% (1/7)\n",
      "• Sci-Fi: 14.3% (1/7)\n",
      "\n",
      "🎯 Próximas 10 recomendações:\n",
      " 1. Filme de Sci-Fi\n",
      " 2. Filme de Ação\n",
      " 3. Filme de Sci-Fi\n",
      " 4. Filme de Sci-Fi\n",
      " 5. Filme de Ação\n",
      " 6. Filme de Comédia\n",
      " 7. Filme de Sci-Fi\n",
      " 8. Filme de Ação\n",
      " 9. Filme de Ação\n",
      "10. Filme de Ação\n",
      "\n",
      "✅ Verificação:\n",
      "• Ação: esperado ≈ 5.7, obtido = 5\n",
      "• Comédia: esperado ≈ 1.4, obtido = 1\n",
      "• Drama: esperado ≈ 1.4, obtido = 0\n",
      "• Sci-Fi: esperado ≈ 1.4, obtido = 4\n"
     ]
    }
   ],
   "source": [
    "netflix_recomendacao()"
   ]
  },
  {
   "cell_type": "markdown",
   "id": "a4b7eb63",
   "metadata": {
    "slideshow": {
     "slide_type": "slide"
    }
   },
   "source": [
    "## 🚀 Por Que Isso Importa para RL?\n",
    "\n",
    "### Conexão com Aprendizado por Reforço"
   ]
  },
  {
   "cell_type": "code",
   "execution_count": 45,
   "id": "b49f8e16",
   "metadata": {
    "slideshow": {
     "slide_type": "slide"
    }
   },
   "outputs": [],
   "source": [
    "def preview_rl():\n",
    "    \"\"\"\n",
    "    Mostra como as probabilidades aparecem em RL\n",
    "    \"\"\"\n",
    "    print(\"🤖 PROBABILIDADES NO APRENDIZADO POR REFORÇO\")\n",
    "    print(\"=\" * 45)\n",
    "    \n",
    "    print(\"🎯 Onde você vai encontrar probabilidades em RL:\")\n",
    "    print()\n",
    "    \n",
    "    exemplos = [\n",
    "        (\"🎲 Estados Aleatórios\", \"O ambiente pode ser estocástico\"),\n",
    "        (\"🎯 Políticas\", \"π(a|s) = probabilidade de ação a no estado s\"),\n",
    "        (\"🔍 Exploração\", \"ε-greedy: às vezes escolha aleatória\"),\n",
    "        (\"🎰 Bandits\", \"Múltiplas opções com recompensas incertas\"),\n",
    "        (\"📊 Estimação\", \"Valores Q têm incerteza\"),\n",
    "        (\"🎪 Thompson Sampling\", \"Amostra da distribuição de crenças\")\n",
    "    ]\n",
    "    \n",
    "    for emoji_conceito, explicacao in exemplos:\n",
    "        print(f\"{emoji_conceito}: {explicacao}\")\n",
    "    \n",
    "    print(f\"\\n💡 MENSAGEM PRINCIPAL:\")\n",
    "    print(\"RL é sobre tomar decisões com INCERTEZA!\")\n",
    "    print(\"Probabilidades nos ajudam a:\")\n",
    "    print(\"• Modelar incerteza\")\n",
    "    print(\"• Balancear exploração vs. exploração\")  \n",
    "    print(\"• Quantificar confiança nas estimativas\")"
   ]
  },
  {
   "cell_type": "code",
   "execution_count": 46,
   "id": "bc133837",
   "metadata": {
    "slideshow": {
     "slide_type": "slide"
    }
   },
   "outputs": [
    {
     "name": "stdout",
     "output_type": "stream",
     "text": [
      "🤖 PROBABILIDADES NO APRENDIZADO POR REFORÇO\n",
      "=============================================\n",
      "🎯 Onde você vai encontrar probabilidades em RL:\n",
      "\n",
      "🎲 Estados Aleatórios: O ambiente pode ser estocástico\n",
      "🎯 Políticas: π(a|s) = probabilidade de ação a no estado s\n",
      "🔍 Exploração: ε-greedy: às vezes escolha aleatória\n",
      "🎰 Bandits: Múltiplas opções com recompensas incertas\n",
      "📊 Estimação: Valores Q têm incerteza\n",
      "🎪 Thompson Sampling: Amostra da distribuição de crenças\n",
      "\n",
      "💡 MENSAGEM PRINCIPAL:\n",
      "RL é sobre tomar decisões com INCERTEZA!\n",
      "Probabilidades nos ajudam a:\n",
      "• Modelar incerteza\n",
      "• Balancear exploração vs. exploração\n",
      "• Quantificar confiança nas estimativas\n"
     ]
    }
   ],
   "source": [
    "preview_rl()"
   ]
  },
  {
   "cell_type": "markdown",
   "id": "b2f56479",
   "metadata": {
    "slideshow": {
     "slide_type": "slide"
    }
   },
   "source": [
    "## 🧠 Quiz Rápido: Teste Seu Conhecimento"
   ]
  },
  {
   "cell_type": "code",
   "execution_count": 47,
   "id": "3b920b87",
   "metadata": {
    "slideshow": {
     "slide_type": "slide"
    }
   },
   "outputs": [],
   "source": [
    "def quiz_interativo():\n",
    "    \"\"\"\n",
    "    Quiz rápido para engajar a turma\n",
    "    \"\"\"\n",
    "    print(\"🧠 QUIZ RELÂMPAGO\")\n",
    "    print(\"=\" * 20)\n",
    "    \n",
    "    perguntas = [\n",
    "        {\n",
    "            \"pergunta\": \"Em um baralho de 52 cartas, qual a probabilidade de tirar um Rei?\",\n",
    "            \"opcoes\": [\"A) 1/13\", \"B) 1/4\", \"C) 4/52\", \"D) A e C estão corretas\"],\n",
    "            \"resposta\": \"D\",\n",
    "            \"explicacao\": \"4 reis em 52 cartas = 4/52 = 1/13\"\n",
    "        },\n",
    "        {\n",
    "            \"pergunta\": \"Se P(Chuva) = 0.3 e P(Guarda-chuva | Chuva) = 0.9, qual P(Chuva E Guarda-chuva)?\",\n",
    "            \"opcoes\": [\"A) 0.27\", \"B) 0.3\", \"C) 0.9\", \"D) 1.2\"],\n",
    "            \"resposta\": \"A\", \n",
    "            \"explicacao\": \"P(A ∩ B) = P(B|A) × P(A) = 0.9 × 0.3 = 0.27\"\n",
    "        },\n",
    "        {\n",
    "            \"pergunta\": \"No problema de Monty Hall, qual a probabilidade de ganhar trocando?\",\n",
    "            \"opcoes\": [\"A) 1/3\", \"B) 1/2\", \"C) 2/3\", \"D) Depende da sorte\"],\n",
    "            \"resposta\": \"C\",\n",
    "            \"explicacao\": \"Ao trocar, você ganha sempre que a escolha inicial estava errada (2/3 das vezes)\"\n",
    "        }\n",
    "    ]\n",
    "    \n",
    "    print(\"Responda mentalmente e depois veremos as respostas!\\n\")\n",
    "    \n",
    "    for i, q in enumerate(perguntas, 1):\n",
    "        print(f\"❓ Pergunta {i}:\")\n",
    "        print(f\"{q['pergunta']}\")\n",
    "        for opcao in q['opcoes']:\n",
    "            print(f\"   {opcao}\")\n",
    "        print()\n",
    "    \n",
    "    print(\"⏰ Tempo para pensar... (10 segundos)\")\n",
    "    print(\"\\n\" + \"=\"*50)\n",
    "    print(\"📝 GABARITO:\")\n",
    "    \n",
    "    for i, q in enumerate(perguntas, 1):\n",
    "        print(f\"\\n{i}. Resposta: {q['resposta']}\")\n",
    "        print(f\"   💡 {q['explicacao']}\")"
   ]
  },
  {
   "cell_type": "code",
   "execution_count": 48,
   "id": "3ae6d5d0",
   "metadata": {
    "slideshow": {
     "slide_type": "slide"
    }
   },
   "outputs": [
    {
     "name": "stdout",
     "output_type": "stream",
     "text": [
      "🧠 QUIZ RELÂMPAGO\n",
      "====================\n",
      "Responda mentalmente e depois veremos as respostas!\n",
      "\n",
      "❓ Pergunta 1:\n",
      "Em um baralho de 52 cartas, qual a probabilidade de tirar um Rei?\n",
      "   A) 1/13\n",
      "   B) 1/4\n",
      "   C) 4/52\n",
      "   D) A e C estão corretas\n",
      "\n",
      "❓ Pergunta 2:\n",
      "Se P(Chuva) = 0.3 e P(Guarda-chuva | Chuva) = 0.9, qual P(Chuva E Guarda-chuva)?\n",
      "   A) 0.27\n",
      "   B) 0.3\n",
      "   C) 0.9\n",
      "   D) 1.2\n",
      "\n",
      "❓ Pergunta 3:\n",
      "No problema de Monty Hall, qual a probabilidade de ganhar trocando?\n",
      "   A) 1/3\n",
      "   B) 1/2\n",
      "   C) 2/3\n",
      "   D) Depende da sorte\n",
      "\n",
      "⏰ Tempo para pensar... (10 segundos)\n",
      "\n",
      "==================================================\n",
      "📝 GABARITO:\n",
      "\n",
      "1. Resposta: D\n",
      "   💡 4 reis em 52 cartas = 4/52 = 1/13\n",
      "\n",
      "2. Resposta: A\n",
      "   💡 P(A ∩ B) = P(B|A) × P(A) = 0.9 × 0.3 = 0.27\n",
      "\n",
      "3. Resposta: C\n",
      "   💡 Ao trocar, você ganha sempre que a escolha inicial estava errada (2/3 das vezes)\n"
     ]
    }
   ],
   "source": [
    "quiz_interativo()"
   ]
  },
  {
   "cell_type": "markdown",
   "id": "0e59018d",
   "metadata": {},
   "source": [
    "## 🏠 Mini-Tarefa para Casa\n",
    "\n",
    "**Desafio da Semana**: Observe uma situação do cotidiano onde probabilidades estão envolvidas e pense:\n",
    "\n",
    "1. 🎯 **Identifique**: Qual é o evento aleatório?\n",
    "2. 🤔 **Estime**: Quais são as probabilidades envolvidas?\n",
    "3. 📊 **Analise**: Como você poderia coletar dados para verificar?\n",
    "\n",
    "**Exemplos de inspiração**:\n",
    "- Tempo de espera no elevador\n",
    "- Probabilidade de chuva vs. previsão do tempo\n",
    "- Taxa de acerto do seu GPS\n",
    "- Recomendações do Spotify/YouTube\n",
    "\n",
    "**💡 Compartilhe na próxima aula**: Sua observação mais interessante!\n",
    "\n",
    "---\n",
    "\n",
    "*🎉 Parabéns! Você acabou de dar o primeiro passo para dominar o Aprendizado por Reforço. Lembre-se: no mundo do RL, a incerteza não é um problema - é uma característica fundamental que precisamos abraçar e modelar!*"
   ]
  }
 ],
 "metadata": {
  "celltoolbar": "Slideshow",
  "kernelspec": {
   "display_name": "Python 3 (ipykernel)",
   "language": "python",
   "name": "python3"
  },
  "language_info": {
   "codemirror_mode": {
    "name": "ipython",
    "version": 3
   },
   "file_extension": ".py",
   "mimetype": "text/x-python",
   "name": "python",
   "nbconvert_exporter": "python",
   "pygments_lexer": "ipython3",
   "version": "3.10.13"
  },
  "nbTranslate": {
   "displayLangs": [
    "*"
   ],
   "hotkey": "alt-t",
   "langInMainMenu": true,
   "sourceLang": "en",
   "targetLang": "fr",
   "useGoogleTranslate": true
  }
 },
 "nbformat": 4,
 "nbformat_minor": 5
}
